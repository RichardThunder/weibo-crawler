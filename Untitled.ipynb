{
 "cells": [
  {
   "cell_type": "code",
   "execution_count": 3,
   "id": "0683d2b2-3b41-47e6-b6a7-a1e57dc61a2b",
   "metadata": {},
   "outputs": [],
   "source": [
    "links = ['https://cdn.elitebabes.com/content/2302128/0003-01_1200.jpg 1200w', ' https://cdn.elitebabes.com/content/2302128/0003-01_800.jpg 800w']"
   ]
  },
  {
   "cell_type": "code",
   "execution_count": 5,
   "id": "81e02cdf-f876-4c64-9426-870cfa8e9911",
   "metadata": {},
   "outputs": [
    {
     "name": "stdout",
     "output_type": "stream",
     "text": [
      "https://cdn.elitebabes.com/content/2302128/0003-01_1200.jpg\n",
      "True\n",
      "\n",
      "False\n"
     ]
    }
   ],
   "source": [
    "for link in links:\n",
    "    url = link.split(' ')\n",
    "    print(url[0])\n",
    "    print(url[0].strip().endswith('.jpg'))\n",
    "    "
   ]
  },
  {
   "cell_type": "code",
   "execution_count": null,
   "id": "7b47f72f-7f99-4413-a2af-9afb2f5dfb28",
   "metadata": {},
   "outputs": [],
   "source": []
  },
  {
   "cell_type": "code",
   "execution_count": null,
   "id": "c649807e-4907-46cb-800a-936a9ba66072",
   "metadata": {},
   "outputs": [],
   "source": []
  }
 ],
 "metadata": {
  "kernelspec": {
   "display_name": "Python 3 (ipykernel)",
   "language": "python",
   "name": "python3"
  },
  "language_info": {
   "codemirror_mode": {
    "name": "ipython",
    "version": 3
   },
   "file_extension": ".py",
   "mimetype": "text/x-python",
   "name": "python",
   "nbconvert_exporter": "python",
   "pygments_lexer": "ipython3",
   "version": "3.11.6"
  }
 },
 "nbformat": 4,
 "nbformat_minor": 5
}
